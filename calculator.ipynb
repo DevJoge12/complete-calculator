 # @title calculadora completa


from sympy import simplify
from IPython.display import display, clear_output, HTML
from IPython.display import clear_output
import math
import ipywidgets as widgets
from ipywidgets import HBox
import time





def number_an(b):
  global linha_calc
  linha_calc.value += "1"





button_an = widgets.Button(description="1")
button_an.layout.width = '50px'
button_an.style.button_color = 'blue'
button_an.on_click(number_an)





def number_two(b):
  global linha_calc
  linha_calc.value += "2"





button_two = widgets.Button(description="2")
button_two.layout.width = '50px'
button_two.style.button_color = 'blue'
button_two.on_click(number_two)


def number_tres(b):
  global linha_calc
  linha_calc.value += "3"





button_tres = widgets.Button(description="3")
button_tres.layout.width = '50px'
button_tres.style.button_color = 'blue'
button_tres.on_click(number_tres)



def number_quatro(b):
  global linha_calc
  linha_calc.value += "4"





button_quatro = widgets.Button(description="4")
button_quatro.layout.width = '50px'
button_quatro.style.button_color = 'blue'
button_quatro.on_click(number_quatro)



def number_cinco(b):
  global linha_calc
  linha_calc.value += "5"





button_cinco = widgets.Button(description="5")
button_cinco.layout.width = '50px'
button_cinco.style.button_color = 'blue'
button_cinco.on_click(number_cinco)


def number_seis(b):
  global linha_calc
  linha_calc.value += "6"





button_seis = widgets.Button(description="6")
button_seis.layout.width = '50px'
button_seis.style.button_color = 'blue'
button_seis.on_click(number_seis)



def number_sete(b):
  global linha_calc
  linha_calc.value += "7"





button_sete = widgets.Button(description="7")
button_sete.layout.width = '50px'
button_sete.style.button_color = 'blue'
button_sete.on_click(number_sete)

def number_oito(b):
  global linha_calc
  linha_calc.value += "8"





button_oito = widgets.Button(description="8")
button_oito.layout.width = '50px'
button_oito.style.button_color = 'blue'
button_oito.on_click(number_oito)


def number_nove(b):
  global linha_calc
  linha_calc.value += "9"





button_nove = widgets.Button(description="9")
button_nove.layout.width = '50px'
button_nove.style.button_color = 'blue'
button_nove.on_click(number_nove)


def number_zero(b):
  global linha_calc
  linha_calc.value += "0"





button_zero = widgets.Button(description="0")
button_zero.layout.width = '50px'
button_zero.style.button_color = 'blue'
button_zero.on_click(number_zero)


def number_plus(b):
  global linha_calc
  linha_calc.value += "+"





button_plus = widgets.Button(description="+")
button_plus.layout.width = '50px'
button_plus.style.button_color = 'green'
button_plus.on_click(number_plus)


def number_min(b):
  global linha_calc
  linha_calc.value += "-"





button_min = widgets.Button(description="-")
button_min.layout.width = '50px'
button_min.style.button_color = 'green'
button_min.on_click(number_min)


def number_ve(b):
  global linha_calc
  linha_calc.value += "*"





button_ve = widgets.Button(description="x")
button_ve.layout.width = '50px'
button_ve.style.button_color = 'green'
button_ve.on_click(number_ve)













def number_vir(b):
  global linha_calc
  linha_calc.value += "."





button_vir = widgets.Button(description=",")
button_vir.layout.width = '50px'
button_vir.style.button_color = 'blue'
button_vir.on_click(number_vir)

def number_div(b):
  global linha_calc
  linha_calc.value += "/"




















button_div = widgets.Button(description="/")
button_div.layout.width = '50px'
button_div.style.button_color = 'green'
button_div.on_click(number_div)

def number_po(b):
  global linha_calc
  linha_calc.value += "**2"





button_po = widgets.Button(description="²")
button_po.layout.width = '50px'
button_po.style.button_color = 'green'
button_po.on_click(number_po)

def number_paren(b):
  global linha_calc
  linha_calc.value += "("





button_paren = widgets.Button(description="(")
button_paren.layout.width = '50px'
button_paren.style.button_color = 'green'
button_paren.on_click(number_paren)


def number_paren2(b):
  global linha_calc
  linha_calc.value += ")"





button_paren2 = widgets.Button(description=")")
button_paren2.layout.width = '50px'
button_paren2.style.button_color = 'green'
button_paren2.on_click(number_paren2)




linha_defA = widgets.Textarea(
    value="1",
    layout=widgets.Layout(width='600px'),
)

linha_defB = widgets.Textarea(
    value="1",
    layout=widgets.Layout(width='600px'),
)


linha_defC = widgets.Textarea(
    value="1",
    layout=widgets.Layout(width='600px'),
)



A = float(linha_defA.value)
B = float(linha_defB.value)
C = float(linha_defC.value)


def digit_A(b):
  linha_calc.value += "A"

def digit_B(b):
  linha_calc.value += "B"

def digit_C(b):
  linha_calc.value += "C"

button_C = widgets.Button(description="C")
button_C.style.button_color = "gray"

button_C.on_click(digit_C)


button_B = widgets.Button(description="B")
button_B.style.button_color = "gray"

button_B.on_click(digit_B)


button_A = widgets.Button(description="A")
button_A.style.button_color = "gray"

button_A.on_click(digit_A)








def definir_A(b):
  global A,linha_defA
  clear_output(wait=True)
  clear_output(wait=False)
  calculadora_2()

  linha_defA.value = linha_defA.value
  A = float(linha_defA.value)



button_defA = widgets.Button(description="A=")
button_defA.style.button_color = "gray"
button_defA.on_click(definir_A)

def definir_B(b):
  global B,linha_defB
  clear_output(wait=True)
  clear_output(wait=False)
  calculadora_2()

  linha_defB.value = linha_defB.value
  B = float(linha_defB.value)



button_defB = widgets.Button(description="B=")
button_defB.style.button_color = "gray"
button_defB.on_click(definir_B)

def definir_C(b):
  global C,linha_defC
  clear_output(wait=True)
  clear_output(wait=False)
  calculadora_2()

  linha_defC.value = linha_defC.value
  C = float(linha_defC.value)


button_defC = widgets.Button(description="C=")
button_defC.style.button_color = "gray"
button_defC.on_click(definir_C)



def variables(b):
  clear_output(wait=True)
  time.sleep(0.5)
  clear_output(wait=False)

  display(HBox([button_defA,linha_defA]))
  display(HBox([button_defB,linha_defB]))
  display(HBox([button_defC,linha_defC]))

button_vars = widgets.Button(description="variables")
button_vars.style.button_color = "gray"
button_vars.on_click(variables)



def binario(b):
  linha_calc.value += 'bin('

button_bin = widgets.Button(description="0b010")
button_bin.style.button_color = 'orange'
button_bin.on_click(binario)


def digit_bin(b):
  linha_calc.value += "0b"

button_bin_di = widgets.Button(description="x=0b")
button_bin_di.style.button_color = 'blue'
button_bin_di.on_click(digit_bin)




def cosen(b):
  linha_calc.value += 'math.cos('

button_cos = widgets.Button(description="cos()")
button_cos.style.button_color = 'orange'
button_cos.on_click(cosen)

def racine(b):
  linha_calc.value += 'math.sqrt('

button_racine = widgets.Button(description="√")
button_racine.style.button_color = 'green'
button_racine.on_click(racine)



def sin_func(b):
  linha_calc.value += 'math.sin('

button_sin = widgets.Button(description="sin()")
button_sin.style.button_color = 'orange'
button_sin.on_click(sin_func)


def tan_func(b):
  linha_calc.value += 'math.tan('

button_tan = widgets.Button(description="tan()")
button_tan.style.button_color = 'orange'
button_tan.on_click(tan_func)


def log_func(b):
  linha_calc.value += 'math.log'

button_log = widgets.Button(description="log()")
button_log.style.button_color = 'orange'
button_log.on_click(log_func)


def factorial_func(b):
  linha_calc.value += 'math.factorial('

button_fac = widgets.Button(description="!x")
button_fac.style.button_color = 'orange'
button_fac.on_click(factorial_func)




def if_igual(b):
  linha_calc.value += '=='

button_if_eg = widgets.Button(description="si x=y")
button_if_eg.style.button_color = 'purple'
button_if_eg.on_click(if_igual)




def if_most(b):
  linha_calc.value += '>'

button_most = widgets.Button(description="si x>y")
button_most.style.button_color = 'purple'
button_most.on_click(if_most)

def if_than(b):
  linha_calc.value += '<'

button_than = widgets.Button(description="si x<y")
button_than.style.button_color = 'purple'
button_than.on_click(if_than)


def if_eg_most(b):
  linha_calc.value += '>='

button_eg_most = widgets.Button(description="si x>=y")
button_eg_most.style.button_color = 'purple'
button_eg_most.on_click(if_eg_most)

def if_eg_than(b):
  linha_calc.value += '<='

button_eg_than = widgets.Button(description="si x<=y")
button_eg_than.style.button_color = 'purple'
button_eg_than.on_click(if_eg_than)





def if_not(b):
  linha_calc.value += '!='

button_not = widgets.Button(description="si x!=y")
button_not.style.button_color = 'purple'
button_not.on_click(if_not)







def clean(b):
  clear_output(wait=False)
  linha_calc.value = ""
  clear_output(wait=True)
  calculadora_2()



button_clean = widgets.Button(description="C:")
button_clean.style.button_color = 'red'
button_clean.on_click(clean)

def apagar(b):
  global linha_calc
  linha_calc.value = linha_calc.value[:-1]

button_apag = widgets.Button(description=">x")
button_apag.style.button_color = 'red'
button_apag.on_click(apagar)

def clean_camp(b):
  global linha_calc
  linha_calc.value = ''

button_cleanC = widgets.Button(description='A:')
button_cleanC.style.button_color = 'red'
button_cleanC.on_click(clean_camp)




def calculadora_2():
  display(pro)
  anim_2()
  clean_frame()
  pro.value = 10

  clear_output(wait=True)
  time.sleep(0.5)
  clear_output(wait=False)








  display(HBox([linha_calc,button_calc,button_apag,button_clean,button_cleanC]))
  display(HBox([button_an,button_two,button_tres,button_quatro,button_cinco]))
  display(HBox([button_seis,button_sete,button_oito,button_nove,button_zero,button_vir,button_pi,button_bin_di]))
  display(HBox([button_bin,button_cos,button_sin,button_tan,button_log,button_fac]))
  display(HBox([button_A,button_B,button_C,button_vars]))
  display(HBox([button_plus,button_min,button_ve,button_div,button_euc,button_po,button_racine,button_paren,button_paren2]))
  display(HBox([button_if_eg,button_most,button_than,button_eg_most]))
  display(HBox([button_eg_than,button_not]))
  display(botao_backM)


def clean_frame():
  clear_output(wait=True)
  clear_output(wait=False)


pro = widgets.IntProgress(value=10, min=0, max=100, disabled=True,bar_style='success')



def anim_2():
  for i in range(10):
    time.sleep(0.5)
    clean_frame()
    pro.value += 10
    display(pro)




button_selectType = widgets.Dropdown(options=['calculatrice basic', 'calculatrice scientifique'], description='seletione')


c_basic = True
c_scien = False

def calc_typeBS():
  if button_selectType.value == 'calculatrice basic':
    c_scien = False
    c_basic = True
  else:
    if button_selectType.value == 'calculatrice scientifique':
      c_basic = False
      c_scien = True


def select_type(b):
  display(button_selectType)

  if button_selectType.value == 'calculatrice basic':
    clean_frame()
    basic_calculator()

  else:
    if button_selectType.value == 'calculatrice scientifique':
      clean_frame()
      calculadora_2()

button_select = widgets.Button(description='ok')
button_select.style.button_color = 'green'

button_select.on_click(select_type)




def basic_calculator():

  display(pro)
  anim_2()
  clean_frame()
  pro.value = 10

  clear_output(wait=True)
  time.sleep(0.5)
  clear_output(wait=False)
  display(HBox([linha_calc,button_calc,button_apag]))
  display(HBox([button_an,button_two,button_tres,button_quatro,button_cinco,button_seis,button_clean,button_cleanC]))
  display(HBox([button_sete,button_oito,button_nove,button_zero,button_vir,button_plus]))
  display(HBox([button_min,button_ve,button_div,button_paren,button_paren2]))
  display(botao_backM)



linha_dividende = widgets.FloatText(
    value=1,
    layout=widgets.Layout(width='600px')
)
dividende = int(linha_dividende.value)


linha_divisor = widgets.FloatText(
    value=1,
    layout=widgets.Layout(width="600px")
)






def euc(b):
  divisor = float(linha_divisor.value)
  dividende = float(linha_dividende.value)


  clear_output(wait=True)
  time.sleep(0.5)
  clear_output(wait=False)

  calculadora_2()

  print(f"Q={dividende/divisor}")
  print(f"R={dividende % divisor}")


button_euc_def = widgets.Button(description="definir")
button_euc_def.style.button_color = "green"
button_euc_def.on_click(euc)



def euc_defini(b):
  clear_output(wait=True)
  time.sleep(0.5)
  clear_output(wait=False)

  display(linha_dividende,linha_divisor)
  display(button_euc_def)



button_euc = widgets.Button(description="|_")
button_euc.style.button_color = "green"
button_euc.on_click(euc_defini)



def menu_back(b):
  clean_frame()
  menu()
botao_backM = widgets.Button(description='Menu')
botao_backM.style.button_color = 'purple'
botao_backM.on_click(menu_back)






linha_calc = widgets.Textarea(
    value="",
    layout=widgets.Layout(width='350px'),
    disabled=True
)
pi = math.pi

lista_txt = widgets.Textarea(
    value="",
    layout=widgets.Layout(width='600px')
)













normal_ex = True







def calcular_basic(b):
  global linha_calc

  try:
    print(eval(linha_calc.value))

  except ValueError:
    if eval(linha_calc.value) == '':
      print(None)











button_calc = widgets.Button(description="=")
button_calc.style.button_color = 'red'
button_calc.on_click(calcular_basic)








def pi_func(b):
  linha_calc.value += "pi"

button_pi = widgets.Button(description="π")
button_pi.style.button_color = 'blue'
button_pi.on_click(pi_func)


def menu():
  display(HBox([button_selectType,button_select]))



menu()
